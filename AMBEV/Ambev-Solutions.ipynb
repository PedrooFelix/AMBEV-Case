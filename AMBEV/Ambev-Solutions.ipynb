{
 "cells": [
  {
   "cell_type": "code",
   "execution_count": 2,
   "metadata": {
    "ExecuteTime": {
     "end_time": "2021-03-19T20:04:15.233368Z",
     "start_time": "2021-03-19T20:04:08.042344Z"
    }
   },
   "outputs": [],
   "source": [
    "import numpy as np\n",
    "import matplotlib.pyplot as plt\n",
    "import pandas as pd\n",
    "import seaborn as sns\n",
    "import numpy as np\n",
    "# pandas used for working with tables and data manipulation\n",
    "import pandas as pd\n",
    "#seaborn for working with graphs\n",
    "import seaborn as sns\n",
    "#matplotlib to show with a bar plot\n",
    "import matplotlib.pyplot as plt"
   ]
  },
  {
   "cell_type": "markdown",
   "metadata": {},
   "source": [
    "# treting the data"
   ]
  },
  {
   "cell_type": "code",
   "execution_count": 1,
   "metadata": {
    "ExecuteTime": {
     "end_time": "2021-03-19T20:03:59.586819Z",
     "start_time": "2021-03-19T20:03:59.303194Z"
    }
   },
   "outputs": [
    {
     "ename": "NameError",
     "evalue": "name 'pd' is not defined",
     "output_type": "error",
     "traceback": [
      "\u001b[0;31m---------------------------------------------------------------------------\u001b[0m",
      "\u001b[0;31mNameError\u001b[0m                                 Traceback (most recent call last)",
      "\u001b[0;32m<ipython-input-1-07504a568198>\u001b[0m in \u001b[0;36m<module>\u001b[0;34m\u001b[0m\n\u001b[0;32m----> 1\u001b[0;31m \u001b[0mx\u001b[0m \u001b[0;34m=\u001b[0m \u001b[0mpd\u001b[0m\u001b[0;34m.\u001b[0m\u001b[0mread_json\u001b[0m\u001b[0;34m(\u001b[0m\u001b[0;34m'dataset.json'\u001b[0m\u001b[0;34m)\u001b[0m\u001b[0;34m\u001b[0m\u001b[0;34m\u001b[0m\u001b[0m\n\u001b[0m",
      "\u001b[0;31mNameError\u001b[0m: name 'pd' is not defined"
     ]
    }
   ],
   "source": [
    "x = pd.read_json('dataset.json')"
   ]
  },
  {
   "cell_type": "code",
   "execution_count": 23,
   "metadata": {
    "ExecuteTime": {
     "end_time": "2021-03-19T18:00:22.085303Z",
     "start_time": "2021-03-19T18:00:21.949087Z"
    },
    "collapsed": true
   },
   "outputs": [
    {
     "data": {
      "text/html": [
       "<div>\n",
       "<style scoped>\n",
       "    .dataframe tbody tr th:only-of-type {\n",
       "        vertical-align: middle;\n",
       "    }\n",
       "\n",
       "    .dataframe tbody tr th {\n",
       "        vertical-align: top;\n",
       "    }\n",
       "\n",
       "    .dataframe thead th {\n",
       "        text-align: right;\n",
       "    }\n",
       "</style>\n",
       "<table border=\"1\" class=\"dataframe\">\n",
       "  <thead>\n",
       "    <tr style=\"text-align: right;\">\n",
       "      <th></th>\n",
       "      <th>customer_code</th>\n",
       "      <th>branch_id</th>\n",
       "      <th>sales_channel</th>\n",
       "      <th>seller_code</th>\n",
       "      <th>register_date</th>\n",
       "      <th>total_price</th>\n",
       "      <th>order_id</th>\n",
       "      <th>quantity</th>\n",
       "      <th>item_code</th>\n",
       "      <th>item_total_price</th>\n",
       "      <th>unit_price</th>\n",
       "      <th>group_code</th>\n",
       "      <th>segment_code</th>\n",
       "      <th>is_churn</th>\n",
       "    </tr>\n",
       "  </thead>\n",
       "  <tbody>\n",
       "    <tr>\n",
       "      <th>0</th>\n",
       "      <td>143</td>\n",
       "      <td>0</td>\n",
       "      <td>0</td>\n",
       "      <td>190</td>\n",
       "      <td>2017-11-10T00:00:00Z</td>\n",
       "      <td>1613.53</td>\n",
       "      <td>21804</td>\n",
       "      <td>10</td>\n",
       "      <td>854</td>\n",
       "      <td>292.91</td>\n",
       "      <td>25.04</td>\n",
       "      <td>0</td>\n",
       "      <td>0</td>\n",
       "      <td>0.0</td>\n",
       "    </tr>\n",
       "    <tr>\n",
       "      <th>1</th>\n",
       "      <td>433</td>\n",
       "      <td>0</td>\n",
       "      <td>1</td>\n",
       "      <td>153</td>\n",
       "      <td>2011-05-16T00:00:00Z</td>\n",
       "      <td>11163.69</td>\n",
       "      <td>5486</td>\n",
       "      <td>20</td>\n",
       "      <td>246</td>\n",
       "      <td>287.19</td>\n",
       "      <td>12.33</td>\n",
       "      <td>0</td>\n",
       "      <td>5</td>\n",
       "      <td>0.0</td>\n",
       "    </tr>\n",
       "    <tr>\n",
       "      <th>2</th>\n",
       "      <td>486</td>\n",
       "      <td>0</td>\n",
       "      <td>0</td>\n",
       "      <td>166</td>\n",
       "      <td>2018-01-24T00:00:00Z</td>\n",
       "      <td>6432.12</td>\n",
       "      <td>22662</td>\n",
       "      <td>12</td>\n",
       "      <td>1420</td>\n",
       "      <td>184.84</td>\n",
       "      <td>12.80</td>\n",
       "      <td>0</td>\n",
       "      <td>0</td>\n",
       "      <td>0.0</td>\n",
       "    </tr>\n",
       "    <tr>\n",
       "      <th>3</th>\n",
       "      <td>107</td>\n",
       "      <td>0</td>\n",
       "      <td>1</td>\n",
       "      <td>156</td>\n",
       "      <td>2010-07-28T00:00:00Z</td>\n",
       "      <td>831.82</td>\n",
       "      <td>3956</td>\n",
       "      <td>18</td>\n",
       "      <td>1963</td>\n",
       "      <td>189.18</td>\n",
       "      <td>10.51</td>\n",
       "      <td>0</td>\n",
       "      <td>0</td>\n",
       "      <td>0.0</td>\n",
       "    </tr>\n",
       "    <tr>\n",
       "      <th>4</th>\n",
       "      <td>768</td>\n",
       "      <td>0</td>\n",
       "      <td>1</td>\n",
       "      <td>218</td>\n",
       "      <td>2010-12-17T00:00:00Z</td>\n",
       "      <td>1736.48</td>\n",
       "      <td>4730</td>\n",
       "      <td>5</td>\n",
       "      <td>1786</td>\n",
       "      <td>66.87</td>\n",
       "      <td>11.82</td>\n",
       "      <td>0</td>\n",
       "      <td>0</td>\n",
       "      <td>0.0</td>\n",
       "    </tr>\n",
       "    <tr>\n",
       "      <th>...</th>\n",
       "      <td>...</td>\n",
       "      <td>...</td>\n",
       "      <td>...</td>\n",
       "      <td>...</td>\n",
       "      <td>...</td>\n",
       "      <td>...</td>\n",
       "      <td>...</td>\n",
       "      <td>...</td>\n",
       "      <td>...</td>\n",
       "      <td>...</td>\n",
       "      <td>...</td>\n",
       "      <td>...</td>\n",
       "      <td>...</td>\n",
       "      <td>...</td>\n",
       "    </tr>\n",
       "    <tr>\n",
       "      <th>204423</th>\n",
       "      <td>141</td>\n",
       "      <td>0</td>\n",
       "      <td>0</td>\n",
       "      <td>78</td>\n",
       "      <td>2017-02-15T00:00:00Z</td>\n",
       "      <td>1481.02</td>\n",
       "      <td>18922</td>\n",
       "      <td>12</td>\n",
       "      <td>2624</td>\n",
       "      <td>235.19</td>\n",
       "      <td>19.03</td>\n",
       "      <td>0</td>\n",
       "      <td>0</td>\n",
       "      <td>0.0</td>\n",
       "    </tr>\n",
       "    <tr>\n",
       "      <th>204424</th>\n",
       "      <td>31</td>\n",
       "      <td>0</td>\n",
       "      <td>0</td>\n",
       "      <td>181</td>\n",
       "      <td>2018-05-23T00:00:00Z</td>\n",
       "      <td>1105.38</td>\n",
       "      <td>24146</td>\n",
       "      <td>1</td>\n",
       "      <td>844</td>\n",
       "      <td>100.81</td>\n",
       "      <td>100.81</td>\n",
       "      <td>0</td>\n",
       "      <td>0</td>\n",
       "      <td>0.0</td>\n",
       "    </tr>\n",
       "    <tr>\n",
       "      <th>204425</th>\n",
       "      <td>192</td>\n",
       "      <td>0</td>\n",
       "      <td>0</td>\n",
       "      <td>253</td>\n",
       "      <td>2014-10-20T00:00:00Z</td>\n",
       "      <td>1059.66</td>\n",
       "      <td>13285</td>\n",
       "      <td>3</td>\n",
       "      <td>1785</td>\n",
       "      <td>51.08</td>\n",
       "      <td>15.18</td>\n",
       "      <td>0</td>\n",
       "      <td>0</td>\n",
       "      <td>0.0</td>\n",
       "    </tr>\n",
       "    <tr>\n",
       "      <th>204426</th>\n",
       "      <td>687</td>\n",
       "      <td>0</td>\n",
       "      <td>0</td>\n",
       "      <td>190</td>\n",
       "      <td>2015-08-18T00:00:00Z</td>\n",
       "      <td>3167.71</td>\n",
       "      <td>15167</td>\n",
       "      <td>4</td>\n",
       "      <td>1412</td>\n",
       "      <td>230.32</td>\n",
       "      <td>50.56</td>\n",
       "      <td>0</td>\n",
       "      <td>0</td>\n",
       "      <td>0.0</td>\n",
       "    </tr>\n",
       "    <tr>\n",
       "      <th>204427</th>\n",
       "      <td>9</td>\n",
       "      <td>0</td>\n",
       "      <td>0</td>\n",
       "      <td>143</td>\n",
       "      <td>2013-02-26T00:00:00Z</td>\n",
       "      <td>4930.51</td>\n",
       "      <td>9452</td>\n",
       "      <td>10</td>\n",
       "      <td>24</td>\n",
       "      <td>46.35</td>\n",
       "      <td>4.03</td>\n",
       "      <td>0</td>\n",
       "      <td>0</td>\n",
       "      <td>0.0</td>\n",
       "    </tr>\n",
       "  </tbody>\n",
       "</table>\n",
       "<p>204428 rows × 14 columns</p>\n",
       "</div>"
      ],
      "text/plain": [
       "        customer_code  branch_id  sales_channel  seller_code  \\\n",
       "0                 143          0              0          190   \n",
       "1                 433          0              1          153   \n",
       "2                 486          0              0          166   \n",
       "3                 107          0              1          156   \n",
       "4                 768          0              1          218   \n",
       "...               ...        ...            ...          ...   \n",
       "204423            141          0              0           78   \n",
       "204424             31          0              0          181   \n",
       "204425            192          0              0          253   \n",
       "204426            687          0              0          190   \n",
       "204427              9          0              0          143   \n",
       "\n",
       "               register_date  total_price  order_id  quantity  item_code  \\\n",
       "0       2017-11-10T00:00:00Z      1613.53     21804        10        854   \n",
       "1       2011-05-16T00:00:00Z     11163.69      5486        20        246   \n",
       "2       2018-01-24T00:00:00Z      6432.12     22662        12       1420   \n",
       "3       2010-07-28T00:00:00Z       831.82      3956        18       1963   \n",
       "4       2010-12-17T00:00:00Z      1736.48      4730         5       1786   \n",
       "...                      ...          ...       ...       ...        ...   \n",
       "204423  2017-02-15T00:00:00Z      1481.02     18922        12       2624   \n",
       "204424  2018-05-23T00:00:00Z      1105.38     24146         1        844   \n",
       "204425  2014-10-20T00:00:00Z      1059.66     13285         3       1785   \n",
       "204426  2015-08-18T00:00:00Z      3167.71     15167         4       1412   \n",
       "204427  2013-02-26T00:00:00Z      4930.51      9452        10         24   \n",
       "\n",
       "        item_total_price  unit_price  group_code  segment_code  is_churn  \n",
       "0                 292.91       25.04           0             0       0.0  \n",
       "1                 287.19       12.33           0             5       0.0  \n",
       "2                 184.84       12.80           0             0       0.0  \n",
       "3                 189.18       10.51           0             0       0.0  \n",
       "4                  66.87       11.82           0             0       0.0  \n",
       "...                  ...         ...         ...           ...       ...  \n",
       "204423            235.19       19.03           0             0       0.0  \n",
       "204424            100.81      100.81           0             0       0.0  \n",
       "204425             51.08       15.18           0             0       0.0  \n",
       "204426            230.32       50.56           0             0       0.0  \n",
       "204427             46.35        4.03           0             0       0.0  \n",
       "\n",
       "[204428 rows x 14 columns]"
      ]
     },
     "execution_count": 23,
     "metadata": {},
     "output_type": "execute_result"
    }
   ],
   "source": [
    "x"
   ]
  },
  {
   "cell_type": "code",
   "execution_count": 27,
   "metadata": {
    "ExecuteTime": {
     "end_time": "2021-03-19T18:00:43.829600Z",
     "start_time": "2021-03-19T18:00:43.539602Z"
    }
   },
   "outputs": [
    {
     "name": "stdout",
     "output_type": "stream",
     "text": [
      "<class 'pandas.core.frame.DataFrame'>\n",
      "RangeIndex: 204428 entries, 0 to 204427\n",
      "Data columns (total 14 columns):\n",
      " #   Column            Non-Null Count   Dtype  \n",
      "---  ------            --------------   -----  \n",
      " 0   customer_code     204428 non-null  int64  \n",
      " 1   branch_id         204428 non-null  int64  \n",
      " 2   sales_channel     204428 non-null  int64  \n",
      " 3   seller_code       204428 non-null  int64  \n",
      " 4   register_date     204428 non-null  object \n",
      " 5   total_price       204428 non-null  float64\n",
      " 6   order_id          204428 non-null  int64  \n",
      " 7   quantity          204428 non-null  int64  \n",
      " 8   item_code         204428 non-null  int64  \n",
      " 9   item_total_price  204428 non-null  float64\n",
      " 10  unit_price        204428 non-null  float64\n",
      " 11  group_code        204428 non-null  int64  \n",
      " 12  segment_code      204428 non-null  int64  \n",
      " 13  is_churn          202513 non-null  float64\n",
      "dtypes: float64(4), int64(9), object(1)\n",
      "memory usage: 21.8+ MB\n"
     ]
    }
   ],
   "source": [
    "x.info()"
   ]
  },
  {
   "cell_type": "code",
   "execution_count": 57,
   "metadata": {
    "ExecuteTime": {
     "end_time": "2021-03-19T19:36:18.348599Z",
     "start_time": "2021-03-19T19:36:17.409288Z"
    }
   },
   "outputs": [],
   "source": [
    "x['register_date']=x['register_date'].astype('datetime64')"
   ]
  },
  {
   "cell_type": "code",
   "execution_count": null,
   "metadata": {},
   "outputs": [],
   "source": []
  },
  {
   "cell_type": "markdown",
   "metadata": {
    "heading_collapsed": true
   },
   "source": [
    "# o que eu consigo sacar disso aqui?"
   ]
  },
  {
   "cell_type": "code",
   "execution_count": null,
   "metadata": {
    "hidden": true
   },
   "outputs": [],
   "source": [
    "- Sistema de recomendação\n",
    "\n",
    "- qual o canal que mais vende \n",
    "\n",
    "- clusterização as lojas que que estao indo bem e as lojas que nao estao indo bem \n",
    "\n"
   ]
  },
  {
   "cell_type": "markdown",
   "metadata": {
    "heading_collapsed": true
   },
   "source": [
    "# seeing the nulls"
   ]
  },
  {
   "cell_type": "code",
   "execution_count": 36,
   "metadata": {
    "ExecuteTime": {
     "end_time": "2021-03-19T18:14:03.134032Z",
     "start_time": "2021-03-19T18:13:51.322880Z"
    },
    "hidden": true,
    "scrolled": true
   },
   "outputs": [
    {
     "data": {
      "text/plain": [
       "<AxesSubplot:>"
      ]
     },
     "execution_count": 36,
     "metadata": {},
     "output_type": "execute_result"
    },
    {
     "data": {
      "image/png": "[encoded data removed]",
      "text/plain": [
       "<Figure size 1440x1440 with 1 Axes>"
      ]
     },
     "metadata": {},
     "output_type": "display_data"
    }
   ],
   "source": [
    "#seeing the null values with a graph\n",
    "sns.set({'figure.figsize':(20,20)})\n",
    "sns.heatmap(x.isnull(),cbar=False)"
   ]
  },
  {
   "cell_type": "code",
   "execution_count": 38,
   "metadata": {
    "ExecuteTime": {
     "end_time": "2021-03-19T18:18:51.613053Z",
     "start_time": "2021-03-19T18:18:51.490400Z"
    },
    "hidden": true
   },
   "outputs": [],
   "source": [
    "x=x.drop(['is_churn'], axis=1)"
   ]
  },
  {
   "cell_type": "markdown",
   "metadata": {
    "ExecuteTime": {
     "end_time": "2021-03-19T17:16:18.362980Z",
     "start_time": "2021-03-19T17:16:18.346923Z"
    },
    "heading_collapsed": true
   },
   "source": [
    "# Modeling "
   ]
  },
  {
   "cell_type": "code",
   "execution_count": null,
   "metadata": {
    "hidden": true
   },
   "outputs": [],
   "source": []
  },
  {
   "cell_type": "code",
   "execution_count": null,
   "metadata": {
    "hidden": true
   },
   "outputs": [],
   "source": [
    "kmeans\n",
    "\n",
    "dbscan"
   ]
  },
  {
   "cell_type": "code",
   "execution_count": null,
   "metadata": {
    "hidden": true
   },
   "outputs": [],
   "source": []
  },
  {
   "cell_type": "code",
   "execution_count": null,
   "metadata": {
    "hidden": true
   },
   "outputs": [],
   "source": [
    "#modelo supervisionado para o tipo de regressão logística\n",
    "churn no final \n",
    "\n",
    "a partir de todos os dados das colunas tentar classificar \n",
    "criar uma outra coluna \n",
    "\n",
    "para validar se esse churn é verdadeiro ou não\n"
   ]
  },
  {
   "cell_type": "code",
   "execution_count": null,
   "metadata": {
    "hidden": true
   },
   "outputs": [],
   "source": [
    "problema de performance "
   ]
  },
  {
   "cell_type": "markdown",
   "metadata": {
    "ExecuteTime": {
     "end_time": "2021-03-19T17:36:50.771146Z",
     "start_time": "2021-03-19T17:36:50.761615Z"
    },
    "heading_collapsed": true
   },
   "source": [
    "# KMEANS"
   ]
  },
  {
   "cell_type": "code",
   "execution_count": 39,
   "metadata": {
    "ExecuteTime": {
     "end_time": "2021-03-19T18:19:00.312463Z",
     "start_time": "2021-03-19T18:19:00.305952Z"
    },
    "hidden": true
   },
   "outputs": [],
   "source": [
    "from sklearn.decomposition import PCA\n",
    "from sklearn.preprocessing import StandardScaler"
   ]
  },
  {
   "cell_type": "code",
   "execution_count": 40,
   "metadata": {
    "ExecuteTime": {
     "end_time": "2021-03-19T18:19:02.298095Z",
     "start_time": "2021-03-19T18:19:02.172710Z"
    },
    "collapsed": true,
    "hidden": true
   },
   "outputs": [
    {
     "ename": "KeyError",
     "evalue": "\"['register_date'] not found in axis\"",
     "output_type": "error",
     "traceback": [
      "\u001b[0;31m---------------------------------------------------------------------------\u001b[0m",
      "\u001b[0;31mKeyError\u001b[0m                                  Traceback (most recent call last)",
      "\u001b[0;32m<ipython-input-40-1e4b982a6911>\u001b[0m in \u001b[0;36m<module>\u001b[0;34m\u001b[0m\n\u001b[0;32m----> 1\u001b[0;31m \u001b[0mx\u001b[0m\u001b[0;34m=\u001b[0m\u001b[0mx\u001b[0m\u001b[0;34m.\u001b[0m\u001b[0mdrop\u001b[0m\u001b[0;34m(\u001b[0m\u001b[0;34m[\u001b[0m\u001b[0;34m'register_date'\u001b[0m\u001b[0;34m]\u001b[0m\u001b[0;34m,\u001b[0m \u001b[0maxis\u001b[0m\u001b[0;34m=\u001b[0m\u001b[0;36m1\u001b[0m\u001b[0;34m)\u001b[0m\u001b[0;34m\u001b[0m\u001b[0;34m\u001b[0m\u001b[0m\n\u001b[0m",
      "\u001b[0;32m~/opt/anaconda3/lib/python3.8/site-packages/pandas/core/frame.py\u001b[0m in \u001b[0;36mdrop\u001b[0;34m(self, labels, axis, index, columns, level, inplace, errors)\u001b[0m\n\u001b[1;32m   4161\u001b[0m                 \u001b[0mweight\u001b[0m  \u001b[0;36m1.0\u001b[0m     \u001b[0;36m0.8\u001b[0m\u001b[0;34m\u001b[0m\u001b[0;34m\u001b[0m\u001b[0m\n\u001b[1;32m   4162\u001b[0m         \"\"\"\n\u001b[0;32m-> 4163\u001b[0;31m         return super().drop(\n\u001b[0m\u001b[1;32m   4164\u001b[0m             \u001b[0mlabels\u001b[0m\u001b[0;34m=\u001b[0m\u001b[0mlabels\u001b[0m\u001b[0;34m,\u001b[0m\u001b[0;34m\u001b[0m\u001b[0;34m\u001b[0m\u001b[0m\n\u001b[1;32m   4165\u001b[0m             \u001b[0maxis\u001b[0m\u001b[0;34m=\u001b[0m\u001b[0maxis\u001b[0m\u001b[0;34m,\u001b[0m\u001b[0;34m\u001b[0m\u001b[0;34m\u001b[0m\u001b[0m\n",
      "\u001b[0;32m~/opt/anaconda3/lib/python3.8/site-packages/pandas/core/generic.py\u001b[0m in \u001b[0;36mdrop\u001b[0;34m(self, labels, axis, index, columns, level, inplace, errors)\u001b[0m\n\u001b[1;32m   3885\u001b[0m         \u001b[0;32mfor\u001b[0m \u001b[0maxis\u001b[0m\u001b[0;34m,\u001b[0m \u001b[0mlabels\u001b[0m \u001b[0;32min\u001b[0m \u001b[0maxes\u001b[0m\u001b[0;34m.\u001b[0m\u001b[0mitems\u001b[0m\u001b[0;34m(\u001b[0m\u001b[0;34m)\u001b[0m\u001b[0;34m:\u001b[0m\u001b[0;34m\u001b[0m\u001b[0;34m\u001b[0m\u001b[0m\n\u001b[1;32m   3886\u001b[0m             \u001b[0;32mif\u001b[0m \u001b[0mlabels\u001b[0m \u001b[0;32mis\u001b[0m \u001b[0;32mnot\u001b[0m \u001b[0;32mNone\u001b[0m\u001b[0;34m:\u001b[0m\u001b[0;34m\u001b[0m\u001b[0;34m\u001b[0m\u001b[0m\n\u001b[0;32m-> 3887\u001b[0;31m                 \u001b[0mobj\u001b[0m \u001b[0;34m=\u001b[0m \u001b[0mobj\u001b[0m\u001b[0;34m.\u001b[0m\u001b[0m_drop_axis\u001b[0m\u001b[0;34m(\u001b[0m\u001b[0mlabels\u001b[0m\u001b[0;34m,\u001b[0m \u001b[0maxis\u001b[0m\u001b[0;34m,\u001b[0m \u001b[0mlevel\u001b[0m\u001b[0;34m=\u001b[0m\u001b[0mlevel\u001b[0m\u001b[0;34m,\u001b[0m \u001b[0merrors\u001b[0m\u001b[0;34m=\u001b[0m\u001b[0merrors\u001b[0m\u001b[0;34m)\u001b[0m\u001b[0;34m\u001b[0m\u001b[0;34m\u001b[0m\u001b[0m\n\u001b[0m\u001b[1;32m   3888\u001b[0m \u001b[0;34m\u001b[0m\u001b[0m\n\u001b[1;32m   3889\u001b[0m         \u001b[0;32mif\u001b[0m \u001b[0minplace\u001b[0m\u001b[0;34m:\u001b[0m\u001b[0;34m\u001b[0m\u001b[0;34m\u001b[0m\u001b[0m\n",
      "\u001b[0;32m~/opt/anaconda3/lib/python3.8/site-packages/pandas/core/generic.py\u001b[0m in \u001b[0;36m_drop_axis\u001b[0;34m(self, labels, axis, level, errors)\u001b[0m\n\u001b[1;32m   3919\u001b[0m                 \u001b[0mnew_axis\u001b[0m \u001b[0;34m=\u001b[0m \u001b[0maxis\u001b[0m\u001b[0;34m.\u001b[0m\u001b[0mdrop\u001b[0m\u001b[0;34m(\u001b[0m\u001b[0mlabels\u001b[0m\u001b[0;34m,\u001b[0m \u001b[0mlevel\u001b[0m\u001b[0;34m=\u001b[0m\u001b[0mlevel\u001b[0m\u001b[0;34m,\u001b[0m \u001b[0merrors\u001b[0m\u001b[0;34m=\u001b[0m\u001b[0merrors\u001b[0m\u001b[0;34m)\u001b[0m\u001b[0;34m\u001b[0m\u001b[0;34m\u001b[0m\u001b[0m\n\u001b[1;32m   3920\u001b[0m             \u001b[0;32melse\u001b[0m\u001b[0;34m:\u001b[0m\u001b[0;34m\u001b[0m\u001b[0;34m\u001b[0m\u001b[0m\n\u001b[0;32m-> 3921\u001b[0;31m                 \u001b[0mnew_axis\u001b[0m \u001b[0;34m=\u001b[0m \u001b[0maxis\u001b[0m\u001b[0;34m.\u001b[0m\u001b[0mdrop\u001b[0m\u001b[0;34m(\u001b[0m\u001b[0mlabels\u001b[0m\u001b[0;34m,\u001b[0m \u001b[0merrors\u001b[0m\u001b[0;34m=\u001b[0m\u001b[0merrors\u001b[0m\u001b[0;34m)\u001b[0m\u001b[0;34m\u001b[0m\u001b[0;34m\u001b[0m\u001b[0m\n\u001b[0m\u001b[1;32m   3922\u001b[0m             \u001b[0mresult\u001b[0m \u001b[0;34m=\u001b[0m \u001b[0mself\u001b[0m\u001b[0;34m.\u001b[0m\u001b[0mreindex\u001b[0m\u001b[0;34m(\u001b[0m\u001b[0;34m**\u001b[0m\u001b[0;34m{\u001b[0m\u001b[0maxis_name\u001b[0m\u001b[0;34m:\u001b[0m \u001b[0mnew_axis\u001b[0m\u001b[0;34m}\u001b[0m\u001b[0;34m)\u001b[0m\u001b[0;34m\u001b[0m\u001b[0;34m\u001b[0m\u001b[0m\n\u001b[1;32m   3923\u001b[0m \u001b[0;34m\u001b[0m\u001b[0m\n",
      "\u001b[0;32m~/opt/anaconda3/lib/python3.8/site-packages/pandas/core/indexes/base.py\u001b[0m in \u001b[0;36mdrop\u001b[0;34m(self, labels, errors)\u001b[0m\n\u001b[1;32m   5280\u001b[0m         \u001b[0;32mif\u001b[0m \u001b[0mmask\u001b[0m\u001b[0;34m.\u001b[0m\u001b[0many\u001b[0m\u001b[0;34m(\u001b[0m\u001b[0;34m)\u001b[0m\u001b[0;34m:\u001b[0m\u001b[0;34m\u001b[0m\u001b[0;34m\u001b[0m\u001b[0m\n\u001b[1;32m   5281\u001b[0m             \u001b[0;32mif\u001b[0m \u001b[0merrors\u001b[0m \u001b[0;34m!=\u001b[0m \u001b[0;34m\"ignore\"\u001b[0m\u001b[0;34m:\u001b[0m\u001b[0;34m\u001b[0m\u001b[0;34m\u001b[0m\u001b[0m\n\u001b[0;32m-> 5282\u001b[0;31m                 \u001b[0;32mraise\u001b[0m \u001b[0mKeyError\u001b[0m\u001b[0;34m(\u001b[0m\u001b[0;34mf\"{labels[mask]} not found in axis\"\u001b[0m\u001b[0;34m)\u001b[0m\u001b[0;34m\u001b[0m\u001b[0;34m\u001b[0m\u001b[0m\n\u001b[0m\u001b[1;32m   5283\u001b[0m             \u001b[0mindexer\u001b[0m \u001b[0;34m=\u001b[0m \u001b[0mindexer\u001b[0m\u001b[0;34m[\u001b[0m\u001b[0;34m~\u001b[0m\u001b[0mmask\u001b[0m\u001b[0;34m]\u001b[0m\u001b[0;34m\u001b[0m\u001b[0;34m\u001b[0m\u001b[0m\n\u001b[1;32m   5284\u001b[0m         \u001b[0;32mreturn\u001b[0m \u001b[0mself\u001b[0m\u001b[0;34m.\u001b[0m\u001b[0mdelete\u001b[0m\u001b[0;34m(\u001b[0m\u001b[0mindexer\u001b[0m\u001b[0;34m)\u001b[0m\u001b[0;34m\u001b[0m\u001b[0;34m\u001b[0m\u001b[0m\n",
      "\u001b[0;31mKeyError\u001b[0m: \"['register_date'] not found in axis\""
     ]
    }
   ],
   "source": [
    "x=x.drop(['register_date'], axis=1)"
   ]
  },
  {
   "cell_type": "code",
   "execution_count": 41,
   "metadata": {
    "ExecuteTime": {
     "end_time": "2021-03-19T18:19:08.796373Z",
     "start_time": "2021-03-19T18:19:08.587393Z"
    },
    "hidden": true
   },
   "outputs": [],
   "source": [
    "scaler = StandardScaler()\n",
    "scaler.fit(x)\n",
    "\n",
    "X_std = scaler.transform(x)"
   ]
  },
  {
   "cell_type": "code",
   "execution_count": 42,
   "metadata": {
    "ExecuteTime": {
     "end_time": "2021-03-19T18:19:15.284220Z",
     "start_time": "2021-03-19T18:19:12.120535Z"
    },
    "hidden": true
   },
   "outputs": [
    {
     "data": {
      "text/plain": [
       "KMeans(n_clusters=2)"
      ]
     },
     "execution_count": 42,
     "metadata": {},
     "output_type": "execute_result"
    }
   ],
   "source": [
    "from sklearn.cluster import KMeans\n",
    "\n",
    "kmeans = KMeans(2)\n",
    "kmeans.fit(X_std)"
   ]
  },
  {
   "cell_type": "code",
   "execution_count": null,
   "metadata": {
    "hidden": true
   },
   "outputs": [],
   "source": []
  },
  {
   "cell_type": "code",
   "execution_count": null,
   "metadata": {
    "hidden": true
   },
   "outputs": [],
   "source": [
    "scaler = StandardScaler()\n",
    "scaler.fit(df)\n",
    "\n",
    "X_std = scaler.transform(df)"
   ]
  },
  {
   "cell_type": "code",
   "execution_count": 49,
   "metadata": {
    "ExecuteTime": {
     "end_time": "2021-03-19T18:37:33.865693Z",
     "start_time": "2021-03-19T18:37:22.211399Z"
    },
    "collapsed": true,
    "hidden": true
   },
   "outputs": [
    {
     "data": {
      "text/plain": [
       "<matplotlib.collections.PathCollection at 0x7f8f245d8a90>"
      ]
     },
     "execution_count": 49,
     "metadata": {},
     "output_type": "execute_result"
    },
    {
     "data": {
      "image/png": "[encoded data removed]",
      "text/plain": [
       "<Figure size 1440x1440 with 1 Axes>"
      ]
     },
     "metadata": {},
     "output_type": "display_data"
    }
   ],
   "source": [
    "pca = PCA(2)\n",
    "pca.fit(X_std)\n",
    "\n",
    "pc1 = pca.transform(X_std)[:, 0]\n",
    "pc2 = pca.transform(X_std)[:, 1]\n",
    "\n",
    "plt.scatter(pc1, pc2, c=kmeans.labels_)"
   ]
  },
  {
   "cell_type": "code",
   "execution_count": 51,
   "metadata": {
    "ExecuteTime": {
     "end_time": "2021-03-19T18:38:34.940498Z",
     "start_time": "2021-03-19T18:38:34.811082Z"
    },
    "hidden": true
   },
   "outputs": [
    {
     "data": {
      "text/html": [
       "<div>\n",
       "<style scoped>\n",
       "    .dataframe tbody tr th:only-of-type {\n",
       "        vertical-align: middle;\n",
       "    }\n",
       "\n",
       "    .dataframe tbody tr th {\n",
       "        vertical-align: top;\n",
       "    }\n",
       "\n",
       "    .dataframe thead th {\n",
       "        text-align: right;\n",
       "    }\n",
       "</style>\n",
       "<table border=\"1\" class=\"dataframe\">\n",
       "  <thead>\n",
       "    <tr style=\"text-align: right;\">\n",
       "      <th></th>\n",
       "      <th>customer_code</th>\n",
       "      <th>branch_id</th>\n",
       "      <th>sales_channel</th>\n",
       "      <th>seller_code</th>\n",
       "      <th>total_price</th>\n",
       "      <th>order_id</th>\n",
       "      <th>quantity</th>\n",
       "      <th>item_code</th>\n",
       "      <th>item_total_price</th>\n",
       "      <th>unit_price</th>\n",
       "      <th>group_code</th>\n",
       "      <th>segment_code</th>\n",
       "      <th>cluster</th>\n",
       "    </tr>\n",
       "  </thead>\n",
       "  <tbody>\n",
       "    <tr>\n",
       "      <th>0</th>\n",
       "      <td>143</td>\n",
       "      <td>0</td>\n",
       "      <td>0</td>\n",
       "      <td>190</td>\n",
       "      <td>1613.53</td>\n",
       "      <td>21804</td>\n",
       "      <td>10</td>\n",
       "      <td>854</td>\n",
       "      <td>292.91</td>\n",
       "      <td>25.04</td>\n",
       "      <td>0</td>\n",
       "      <td>0</td>\n",
       "      <td>0</td>\n",
       "    </tr>\n",
       "    <tr>\n",
       "      <th>1</th>\n",
       "      <td>433</td>\n",
       "      <td>0</td>\n",
       "      <td>1</td>\n",
       "      <td>153</td>\n",
       "      <td>11163.69</td>\n",
       "      <td>5486</td>\n",
       "      <td>20</td>\n",
       "      <td>246</td>\n",
       "      <td>287.19</td>\n",
       "      <td>12.33</td>\n",
       "      <td>0</td>\n",
       "      <td>5</td>\n",
       "      <td>1</td>\n",
       "    </tr>\n",
       "    <tr>\n",
       "      <th>2</th>\n",
       "      <td>486</td>\n",
       "      <td>0</td>\n",
       "      <td>0</td>\n",
       "      <td>166</td>\n",
       "      <td>6432.12</td>\n",
       "      <td>22662</td>\n",
       "      <td>12</td>\n",
       "      <td>1420</td>\n",
       "      <td>184.84</td>\n",
       "      <td>12.80</td>\n",
       "      <td>0</td>\n",
       "      <td>0</td>\n",
       "      <td>0</td>\n",
       "    </tr>\n",
       "    <tr>\n",
       "      <th>3</th>\n",
       "      <td>107</td>\n",
       "      <td>0</td>\n",
       "      <td>1</td>\n",
       "      <td>156</td>\n",
       "      <td>831.82</td>\n",
       "      <td>3956</td>\n",
       "      <td>18</td>\n",
       "      <td>1963</td>\n",
       "      <td>189.18</td>\n",
       "      <td>10.51</td>\n",
       "      <td>0</td>\n",
       "      <td>0</td>\n",
       "      <td>0</td>\n",
       "    </tr>\n",
       "    <tr>\n",
       "      <th>4</th>\n",
       "      <td>768</td>\n",
       "      <td>0</td>\n",
       "      <td>1</td>\n",
       "      <td>218</td>\n",
       "      <td>1736.48</td>\n",
       "      <td>4730</td>\n",
       "      <td>5</td>\n",
       "      <td>1786</td>\n",
       "      <td>66.87</td>\n",
       "      <td>11.82</td>\n",
       "      <td>0</td>\n",
       "      <td>0</td>\n",
       "      <td>0</td>\n",
       "    </tr>\n",
       "  </tbody>\n",
       "</table>\n",
       "</div>"
      ],
      "text/plain": [
       "   customer_code  branch_id  sales_channel  seller_code  total_price  \\\n",
       "0            143          0              0          190      1613.53   \n",
       "1            433          0              1          153     11163.69   \n",
       "2            486          0              0          166      6432.12   \n",
       "3            107          0              1          156       831.82   \n",
       "4            768          0              1          218      1736.48   \n",
       "\n",
       "   order_id  quantity  item_code  item_total_price  unit_price  group_code  \\\n",
       "0     21804        10        854            292.91       25.04           0   \n",
       "1      5486        20        246            287.19       12.33           0   \n",
       "2     22662        12       1420            184.84       12.80           0   \n",
       "3      3956        18       1963            189.18       10.51           0   \n",
       "4      4730         5       1786             66.87       11.82           0   \n",
       "\n",
       "   segment_code  cluster  \n",
       "0             0        0  \n",
       "1             5        1  \n",
       "2             0        0  \n",
       "3             0        0  \n",
       "4             0        0  "
      ]
     },
     "execution_count": 51,
     "metadata": {},
     "output_type": "execute_result"
    }
   ],
   "source": [
    "x['cluster'] = kmeans.labels_\n",
    "x.head()"
   ]
  },
  {
   "cell_type": "code",
   "execution_count": null,
   "metadata": {
    "hidden": true
   },
   "outputs": [],
   "source": [
    "x."
   ]
  },
  {
   "cell_type": "code",
   "execution_count": 55,
   "metadata": {
    "ExecuteTime": {
     "end_time": "2021-03-19T18:40:01.805598Z",
     "start_time": "2021-03-19T18:40:01.728103Z"
    },
    "hidden": true
   },
   "outputs": [
    {
     "data": {
      "text/html": [
       "<div>\n",
       "<style scoped>\n",
       "    .dataframe tbody tr th:only-of-type {\n",
       "        vertical-align: middle;\n",
       "    }\n",
       "\n",
       "    .dataframe tbody tr th {\n",
       "        vertical-align: top;\n",
       "    }\n",
       "\n",
       "    .dataframe thead th {\n",
       "        text-align: right;\n",
       "    }\n",
       "</style>\n",
       "<table border=\"1\" class=\"dataframe\">\n",
       "  <thead>\n",
       "    <tr style=\"text-align: right;\">\n",
       "      <th></th>\n",
       "      <th>customer_code</th>\n",
       "      <th>branch_id</th>\n",
       "      <th>sales_channel</th>\n",
       "      <th>seller_code</th>\n",
       "      <th>total_price</th>\n",
       "      <th>order_id</th>\n",
       "      <th>quantity</th>\n",
       "      <th>item_code</th>\n",
       "      <th>item_total_price</th>\n",
       "      <th>unit_price</th>\n",
       "      <th>group_code</th>\n",
       "      <th>segment_code</th>\n",
       "    </tr>\n",
       "    <tr>\n",
       "      <th>cluster</th>\n",
       "      <th></th>\n",
       "      <th></th>\n",
       "      <th></th>\n",
       "      <th></th>\n",
       "      <th></th>\n",
       "      <th></th>\n",
       "      <th></th>\n",
       "      <th></th>\n",
       "      <th></th>\n",
       "      <th></th>\n",
       "      <th></th>\n",
       "      <th></th>\n",
       "    </tr>\n",
       "  </thead>\n",
       "  <tbody>\n",
       "    <tr>\n",
       "      <th>0</th>\n",
       "      <td>447.922526</td>\n",
       "      <td>0.0</td>\n",
       "      <td>1.432062</td>\n",
       "      <td>138.004924</td>\n",
       "      <td>2787.057283</td>\n",
       "      <td>12226.096384</td>\n",
       "      <td>8.707222</td>\n",
       "      <td>1461.307380</td>\n",
       "      <td>233.738823</td>\n",
       "      <td>44.607774</td>\n",
       "      <td>0.000000</td>\n",
       "      <td>0.016418</td>\n",
       "    </tr>\n",
       "    <tr>\n",
       "      <th>1</th>\n",
       "      <td>446.215591</td>\n",
       "      <td>0.0</td>\n",
       "      <td>2.728103</td>\n",
       "      <td>167.689172</td>\n",
       "      <td>12828.753947</td>\n",
       "      <td>13045.149153</td>\n",
       "      <td>22.983954</td>\n",
       "      <td>1366.764799</td>\n",
       "      <td>510.610018</td>\n",
       "      <td>55.826408</td>\n",
       "      <td>1.209658</td>\n",
       "      <td>3.284726</td>\n",
       "    </tr>\n",
       "  </tbody>\n",
       "</table>\n",
       "</div>"
      ],
      "text/plain": [
       "         customer_code  branch_id  sales_channel  seller_code   total_price  \\\n",
       "cluster                                                                       \n",
       "0           447.922526        0.0       1.432062   138.004924   2787.057283   \n",
       "1           446.215591        0.0       2.728103   167.689172  12828.753947   \n",
       "\n",
       "             order_id   quantity    item_code  item_total_price  unit_price  \\\n",
       "cluster                                                                       \n",
       "0        12226.096384   8.707222  1461.307380        233.738823   44.607774   \n",
       "1        13045.149153  22.983954  1366.764799        510.610018   55.826408   \n",
       "\n",
       "         group_code  segment_code  \n",
       "cluster                            \n",
       "0          0.000000      0.016418  \n",
       "1          1.209658      3.284726  "
      ]
     },
     "execution_count": 55,
     "metadata": {},
     "output_type": "execute_result"
    }
   ],
   "source": [
    "x.groupby(by='cluster').mean()"
   ]
  },
  {
   "cell_type": "markdown",
   "metadata": {},
   "source": [
    "# logistic regression for feature selection"
   ]
  },
  {
   "cell_type": "code",
   "execution_count": 58,
   "metadata": {
    "ExecuteTime": {
     "end_time": "2021-03-19T19:40:38.046618Z",
     "start_time": "2021-03-19T19:40:37.601069Z"
    },
    "scrolled": true
   },
   "outputs": [
    {
     "data": {
      "text/html": [
       "<div>\n",
       "<style scoped>\n",
       "    .dataframe tbody tr th:only-of-type {\n",
       "        vertical-align: middle;\n",
       "    }\n",
       "\n",
       "    .dataframe tbody tr th {\n",
       "        vertical-align: top;\n",
       "    }\n",
       "\n",
       "    .dataframe thead th {\n",
       "        text-align: right;\n",
       "    }\n",
       "</style>\n",
       "<table border=\"1\" class=\"dataframe\">\n",
       "  <thead>\n",
       "    <tr style=\"text-align: right;\">\n",
       "      <th></th>\n",
       "      <th>customer_code</th>\n",
       "      <th>branch_id</th>\n",
       "      <th>sales_channel</th>\n",
       "      <th>seller_code</th>\n",
       "      <th>register_date</th>\n",
       "      <th>total_price</th>\n",
       "      <th>order_id</th>\n",
       "      <th>quantity</th>\n",
       "      <th>item_code</th>\n",
       "      <th>item_total_price</th>\n",
       "      <th>unit_price</th>\n",
       "      <th>group_code</th>\n",
       "      <th>segment_code</th>\n",
       "      <th>is_churn</th>\n",
       "    </tr>\n",
       "  </thead>\n",
       "  <tbody>\n",
       "    <tr>\n",
       "      <th>0</th>\n",
       "      <td>143</td>\n",
       "      <td>0</td>\n",
       "      <td>0</td>\n",
       "      <td>190</td>\n",
       "      <td>2017-11-10</td>\n",
       "      <td>1613.53</td>\n",
       "      <td>21804</td>\n",
       "      <td>10</td>\n",
       "      <td>854</td>\n",
       "      <td>292.91</td>\n",
       "      <td>25.04</td>\n",
       "      <td>0</td>\n",
       "      <td>0</td>\n",
       "      <td>0.0</td>\n",
       "    </tr>\n",
       "    <tr>\n",
       "      <th>1</th>\n",
       "      <td>433</td>\n",
       "      <td>0</td>\n",
       "      <td>1</td>\n",
       "      <td>153</td>\n",
       "      <td>2011-05-16</td>\n",
       "      <td>11163.69</td>\n",
       "      <td>5486</td>\n",
       "      <td>20</td>\n",
       "      <td>246</td>\n",
       "      <td>287.19</td>\n",
       "      <td>12.33</td>\n",
       "      <td>0</td>\n",
       "      <td>5</td>\n",
       "      <td>0.0</td>\n",
       "    </tr>\n",
       "    <tr>\n",
       "      <th>2</th>\n",
       "      <td>486</td>\n",
       "      <td>0</td>\n",
       "      <td>0</td>\n",
       "      <td>166</td>\n",
       "      <td>2018-01-24</td>\n",
       "      <td>6432.12</td>\n",
       "      <td>22662</td>\n",
       "      <td>12</td>\n",
       "      <td>1420</td>\n",
       "      <td>184.84</td>\n",
       "      <td>12.80</td>\n",
       "      <td>0</td>\n",
       "      <td>0</td>\n",
       "      <td>0.0</td>\n",
       "    </tr>\n",
       "    <tr>\n",
       "      <th>3</th>\n",
       "      <td>107</td>\n",
       "      <td>0</td>\n",
       "      <td>1</td>\n",
       "      <td>156</td>\n",
       "      <td>2010-07-28</td>\n",
       "      <td>831.82</td>\n",
       "      <td>3956</td>\n",
       "      <td>18</td>\n",
       "      <td>1963</td>\n",
       "      <td>189.18</td>\n",
       "      <td>10.51</td>\n",
       "      <td>0</td>\n",
       "      <td>0</td>\n",
       "      <td>0.0</td>\n",
       "    </tr>\n",
       "    <tr>\n",
       "      <th>4</th>\n",
       "      <td>768</td>\n",
       "      <td>0</td>\n",
       "      <td>1</td>\n",
       "      <td>218</td>\n",
       "      <td>2010-12-17</td>\n",
       "      <td>1736.48</td>\n",
       "      <td>4730</td>\n",
       "      <td>5</td>\n",
       "      <td>1786</td>\n",
       "      <td>66.87</td>\n",
       "      <td>11.82</td>\n",
       "      <td>0</td>\n",
       "      <td>0</td>\n",
       "      <td>0.0</td>\n",
       "    </tr>\n",
       "    <tr>\n",
       "      <th>...</th>\n",
       "      <td>...</td>\n",
       "      <td>...</td>\n",
       "      <td>...</td>\n",
       "      <td>...</td>\n",
       "      <td>...</td>\n",
       "      <td>...</td>\n",
       "      <td>...</td>\n",
       "      <td>...</td>\n",
       "      <td>...</td>\n",
       "      <td>...</td>\n",
       "      <td>...</td>\n",
       "      <td>...</td>\n",
       "      <td>...</td>\n",
       "      <td>...</td>\n",
       "    </tr>\n",
       "    <tr>\n",
       "      <th>204423</th>\n",
       "      <td>141</td>\n",
       "      <td>0</td>\n",
       "      <td>0</td>\n",
       "      <td>78</td>\n",
       "      <td>2017-02-15</td>\n",
       "      <td>1481.02</td>\n",
       "      <td>18922</td>\n",
       "      <td>12</td>\n",
       "      <td>2624</td>\n",
       "      <td>235.19</td>\n",
       "      <td>19.03</td>\n",
       "      <td>0</td>\n",
       "      <td>0</td>\n",
       "      <td>0.0</td>\n",
       "    </tr>\n",
       "    <tr>\n",
       "      <th>204424</th>\n",
       "      <td>31</td>\n",
       "      <td>0</td>\n",
       "      <td>0</td>\n",
       "      <td>181</td>\n",
       "      <td>2018-05-23</td>\n",
       "      <td>1105.38</td>\n",
       "      <td>24146</td>\n",
       "      <td>1</td>\n",
       "      <td>844</td>\n",
       "      <td>100.81</td>\n",
       "      <td>100.81</td>\n",
       "      <td>0</td>\n",
       "      <td>0</td>\n",
       "      <td>0.0</td>\n",
       "    </tr>\n",
       "    <tr>\n",
       "      <th>204425</th>\n",
       "      <td>192</td>\n",
       "      <td>0</td>\n",
       "      <td>0</td>\n",
       "      <td>253</td>\n",
       "      <td>2014-10-20</td>\n",
       "      <td>1059.66</td>\n",
       "      <td>13285</td>\n",
       "      <td>3</td>\n",
       "      <td>1785</td>\n",
       "      <td>51.08</td>\n",
       "      <td>15.18</td>\n",
       "      <td>0</td>\n",
       "      <td>0</td>\n",
       "      <td>0.0</td>\n",
       "    </tr>\n",
       "    <tr>\n",
       "      <th>204426</th>\n",
       "      <td>687</td>\n",
       "      <td>0</td>\n",
       "      <td>0</td>\n",
       "      <td>190</td>\n",
       "      <td>2015-08-18</td>\n",
       "      <td>3167.71</td>\n",
       "      <td>15167</td>\n",
       "      <td>4</td>\n",
       "      <td>1412</td>\n",
       "      <td>230.32</td>\n",
       "      <td>50.56</td>\n",
       "      <td>0</td>\n",
       "      <td>0</td>\n",
       "      <td>0.0</td>\n",
       "    </tr>\n",
       "    <tr>\n",
       "      <th>204427</th>\n",
       "      <td>9</td>\n",
       "      <td>0</td>\n",
       "      <td>0</td>\n",
       "      <td>143</td>\n",
       "      <td>2013-02-26</td>\n",
       "      <td>4930.51</td>\n",
       "      <td>9452</td>\n",
       "      <td>10</td>\n",
       "      <td>24</td>\n",
       "      <td>46.35</td>\n",
       "      <td>4.03</td>\n",
       "      <td>0</td>\n",
       "      <td>0</td>\n",
       "      <td>0.0</td>\n",
       "    </tr>\n",
       "  </tbody>\n",
       "</table>\n",
       "<p>204428 rows × 14 columns</p>\n",
       "</div>"
      ],
      "text/plain": [
       "        customer_code  branch_id  sales_channel  seller_code register_date  \\\n",
       "0                 143          0              0          190    2017-11-10   \n",
       "1                 433          0              1          153    2011-05-16   \n",
       "2                 486          0              0          166    2018-01-24   \n",
       "3                 107          0              1          156    2010-07-28   \n",
       "4                 768          0              1          218    2010-12-17   \n",
       "...               ...        ...            ...          ...           ...   \n",
       "204423            141          0              0           78    2017-02-15   \n",
       "204424             31          0              0          181    2018-05-23   \n",
       "204425            192          0              0          253    2014-10-20   \n",
       "204426            687          0              0          190    2015-08-18   \n",
       "204427              9          0              0          143    2013-02-26   \n",
       "\n",
       "        total_price  order_id  quantity  item_code  item_total_price  \\\n",
       "0           1613.53     21804        10        854            292.91   \n",
       "1          11163.69      5486        20        246            287.19   \n",
       "2           6432.12     22662        12       1420            184.84   \n",
       "3            831.82      3956        18       1963            189.18   \n",
       "4           1736.48      4730         5       1786             66.87   \n",
       "...             ...       ...       ...        ...               ...   \n",
       "204423      1481.02     18922        12       2624            235.19   \n",
       "204424      1105.38     24146         1        844            100.81   \n",
       "204425      1059.66     13285         3       1785             51.08   \n",
       "204426      3167.71     15167         4       1412            230.32   \n",
       "204427      4930.51      9452        10         24             46.35   \n",
       "\n",
       "        unit_price  group_code  segment_code  is_churn  \n",
       "0            25.04           0             0       0.0  \n",
       "1            12.33           0             5       0.0  \n",
       "2            12.80           0             0       0.0  \n",
       "3            10.51           0             0       0.0  \n",
       "4            11.82           0             0       0.0  \n",
       "...            ...         ...           ...       ...  \n",
       "204423       19.03           0             0       0.0  \n",
       "204424      100.81           0             0       0.0  \n",
       "204425       15.18           0             0       0.0  \n",
       "204426       50.56           0             0       0.0  \n",
       "204427        4.03           0             0       0.0  \n",
       "\n",
       "[204428 rows x 14 columns]"
      ]
     },
     "execution_count": 58,
     "metadata": {},
     "output_type": "execute_result"
    }
   ],
   "source": [
    "x"
   ]
  },
  {
   "cell_type": "code",
   "execution_count": 4,
   "metadata": {
    "ExecuteTime": {
     "end_time": "2021-03-19T19:56:03.292787Z",
     "start_time": "2021-03-19T19:56:03.208455Z"
    }
   },
   "outputs": [],
   "source": [
    "x= x.drop('register_date', axis=1)"
   ]
  },
  {
   "cell_type": "code",
   "execution_count": 5,
   "metadata": {
    "ExecuteTime": {
     "end_time": "2021-03-19T19:56:03.830275Z",
     "start_time": "2021-03-19T19:56:03.813415Z"
    }
   },
   "outputs": [],
   "source": [
    "x= x.drop('is_churn', axis=1)"
   ]
  },
  {
   "cell_type": "code",
   "execution_count": 65,
   "metadata": {
    "ExecuteTime": {
     "end_time": "2021-03-19T19:44:44.613692Z",
     "start_time": "2021-03-19T19:44:44.545978Z"
    }
   },
   "outputs": [
    {
     "data": {
      "text/html": [
       "<div>\n",
       "<style scoped>\n",
       "    .dataframe tbody tr th:only-of-type {\n",
       "        vertical-align: middle;\n",
       "    }\n",
       "\n",
       "    .dataframe tbody tr th {\n",
       "        vertical-align: top;\n",
       "    }\n",
       "\n",
       "    .dataframe thead th {\n",
       "        text-align: right;\n",
       "    }\n",
       "</style>\n",
       "<table border=\"1\" class=\"dataframe\">\n",
       "  <thead>\n",
       "    <tr style=\"text-align: right;\">\n",
       "      <th></th>\n",
       "      <th>customer_code</th>\n",
       "      <th>branch_id</th>\n",
       "      <th>sales_channel</th>\n",
       "      <th>seller_code</th>\n",
       "      <th>total_price</th>\n",
       "      <th>order_id</th>\n",
       "      <th>quantity</th>\n",
       "      <th>item_code</th>\n",
       "      <th>item_total_price</th>\n",
       "      <th>unit_price</th>\n",
       "      <th>group_code</th>\n",
       "      <th>segment_code</th>\n",
       "    </tr>\n",
       "  </thead>\n",
       "  <tbody>\n",
       "    <tr>\n",
       "      <th>0</th>\n",
       "      <td>143</td>\n",
       "      <td>0</td>\n",
       "      <td>0</td>\n",
       "      <td>190</td>\n",
       "      <td>1613.53</td>\n",
       "      <td>21804</td>\n",
       "      <td>10</td>\n",
       "      <td>854</td>\n",
       "      <td>292.91</td>\n",
       "      <td>25.04</td>\n",
       "      <td>0</td>\n",
       "      <td>0</td>\n",
       "    </tr>\n",
       "    <tr>\n",
       "      <th>1</th>\n",
       "      <td>433</td>\n",
       "      <td>0</td>\n",
       "      <td>1</td>\n",
       "      <td>153</td>\n",
       "      <td>11163.69</td>\n",
       "      <td>5486</td>\n",
       "      <td>20</td>\n",
       "      <td>246</td>\n",
       "      <td>287.19</td>\n",
       "      <td>12.33</td>\n",
       "      <td>0</td>\n",
       "      <td>5</td>\n",
       "    </tr>\n",
       "    <tr>\n",
       "      <th>2</th>\n",
       "      <td>486</td>\n",
       "      <td>0</td>\n",
       "      <td>0</td>\n",
       "      <td>166</td>\n",
       "      <td>6432.12</td>\n",
       "      <td>22662</td>\n",
       "      <td>12</td>\n",
       "      <td>1420</td>\n",
       "      <td>184.84</td>\n",
       "      <td>12.80</td>\n",
       "      <td>0</td>\n",
       "      <td>0</td>\n",
       "    </tr>\n",
       "    <tr>\n",
       "      <th>3</th>\n",
       "      <td>107</td>\n",
       "      <td>0</td>\n",
       "      <td>1</td>\n",
       "      <td>156</td>\n",
       "      <td>831.82</td>\n",
       "      <td>3956</td>\n",
       "      <td>18</td>\n",
       "      <td>1963</td>\n",
       "      <td>189.18</td>\n",
       "      <td>10.51</td>\n",
       "      <td>0</td>\n",
       "      <td>0</td>\n",
       "    </tr>\n",
       "    <tr>\n",
       "      <th>4</th>\n",
       "      <td>768</td>\n",
       "      <td>0</td>\n",
       "      <td>1</td>\n",
       "      <td>218</td>\n",
       "      <td>1736.48</td>\n",
       "      <td>4730</td>\n",
       "      <td>5</td>\n",
       "      <td>1786</td>\n",
       "      <td>66.87</td>\n",
       "      <td>11.82</td>\n",
       "      <td>0</td>\n",
       "      <td>0</td>\n",
       "    </tr>\n",
       "    <tr>\n",
       "      <th>...</th>\n",
       "      <td>...</td>\n",
       "      <td>...</td>\n",
       "      <td>...</td>\n",
       "      <td>...</td>\n",
       "      <td>...</td>\n",
       "      <td>...</td>\n",
       "      <td>...</td>\n",
       "      <td>...</td>\n",
       "      <td>...</td>\n",
       "      <td>...</td>\n",
       "      <td>...</td>\n",
       "      <td>...</td>\n",
       "    </tr>\n",
       "    <tr>\n",
       "      <th>204423</th>\n",
       "      <td>141</td>\n",
       "      <td>0</td>\n",
       "      <td>0</td>\n",
       "      <td>78</td>\n",
       "      <td>1481.02</td>\n",
       "      <td>18922</td>\n",
       "      <td>12</td>\n",
       "      <td>2624</td>\n",
       "      <td>235.19</td>\n",
       "      <td>19.03</td>\n",
       "      <td>0</td>\n",
       "      <td>0</td>\n",
       "    </tr>\n",
       "    <tr>\n",
       "      <th>204424</th>\n",
       "      <td>31</td>\n",
       "      <td>0</td>\n",
       "      <td>0</td>\n",
       "      <td>181</td>\n",
       "      <td>1105.38</td>\n",
       "      <td>24146</td>\n",
       "      <td>1</td>\n",
       "      <td>844</td>\n",
       "      <td>100.81</td>\n",
       "      <td>100.81</td>\n",
       "      <td>0</td>\n",
       "      <td>0</td>\n",
       "    </tr>\n",
       "    <tr>\n",
       "      <th>204425</th>\n",
       "      <td>192</td>\n",
       "      <td>0</td>\n",
       "      <td>0</td>\n",
       "      <td>253</td>\n",
       "      <td>1059.66</td>\n",
       "      <td>13285</td>\n",
       "      <td>3</td>\n",
       "      <td>1785</td>\n",
       "      <td>51.08</td>\n",
       "      <td>15.18</td>\n",
       "      <td>0</td>\n",
       "      <td>0</td>\n",
       "    </tr>\n",
       "    <tr>\n",
       "      <th>204426</th>\n",
       "      <td>687</td>\n",
       "      <td>0</td>\n",
       "      <td>0</td>\n",
       "      <td>190</td>\n",
       "      <td>3167.71</td>\n",
       "      <td>15167</td>\n",
       "      <td>4</td>\n",
       "      <td>1412</td>\n",
       "      <td>230.32</td>\n",
       "      <td>50.56</td>\n",
       "      <td>0</td>\n",
       "      <td>0</td>\n",
       "    </tr>\n",
       "    <tr>\n",
       "      <th>204427</th>\n",
       "      <td>9</td>\n",
       "      <td>0</td>\n",
       "      <td>0</td>\n",
       "      <td>143</td>\n",
       "      <td>4930.51</td>\n",
       "      <td>9452</td>\n",
       "      <td>10</td>\n",
       "      <td>24</td>\n",
       "      <td>46.35</td>\n",
       "      <td>4.03</td>\n",
       "      <td>0</td>\n",
       "      <td>0</td>\n",
       "    </tr>\n",
       "  </tbody>\n",
       "</table>\n",
       "<p>204428 rows × 12 columns</p>\n",
       "</div>"
      ],
      "text/plain": [
       "        customer_code  branch_id  sales_channel  seller_code  total_price  \\\n",
       "0                 143          0              0          190      1613.53   \n",
       "1                 433          0              1          153     11163.69   \n",
       "2                 486          0              0          166      6432.12   \n",
       "3                 107          0              1          156       831.82   \n",
       "4                 768          0              1          218      1736.48   \n",
       "...               ...        ...            ...          ...          ...   \n",
       "204423            141          0              0           78      1481.02   \n",
       "204424             31          0              0          181      1105.38   \n",
       "204425            192          0              0          253      1059.66   \n",
       "204426            687          0              0          190      3167.71   \n",
       "204427              9          0              0          143      4930.51   \n",
       "\n",
       "        order_id  quantity  item_code  item_total_price  unit_price  \\\n",
       "0          21804        10        854            292.91       25.04   \n",
       "1           5486        20        246            287.19       12.33   \n",
       "2          22662        12       1420            184.84       12.80   \n",
       "3           3956        18       1963            189.18       10.51   \n",
       "4           4730         5       1786             66.87       11.82   \n",
       "...          ...       ...        ...               ...         ...   \n",
       "204423     18922        12       2624            235.19       19.03   \n",
       "204424     24146         1        844            100.81      100.81   \n",
       "204425     13285         3       1785             51.08       15.18   \n",
       "204426     15167         4       1412            230.32       50.56   \n",
       "204427      9452        10         24             46.35        4.03   \n",
       "\n",
       "        group_code  segment_code  \n",
       "0                0             0  \n",
       "1                0             5  \n",
       "2                0             0  \n",
       "3                0             0  \n",
       "4                0             0  \n",
       "...            ...           ...  \n",
       "204423           0             0  \n",
       "204424           0             0  \n",
       "204425           0             0  \n",
       "204426           0             0  \n",
       "204427           0             0  \n",
       "\n",
       "[204428 rows x 12 columns]"
      ]
     },
     "execution_count": 65,
     "metadata": {},
     "output_type": "execute_result"
    }
   ],
   "source": [
    "x"
   ]
  },
  {
   "cell_type": "code",
   "execution_count": 6,
   "metadata": {
    "ExecuteTime": {
     "end_time": "2021-03-19T19:56:10.319661Z",
     "start_time": "2021-03-19T19:56:10.304702Z"
    }
   },
   "outputs": [],
   "source": [
    "X = x.drop('order_id', axis=1)\n",
    "y = x.order_id"
   ]
  },
  {
   "cell_type": "code",
   "execution_count": 7,
   "metadata": {
    "ExecuteTime": {
     "end_time": "2021-03-19T19:56:12.795939Z",
     "start_time": "2021-03-19T19:56:11.359341Z"
    }
   },
   "outputs": [],
   "source": [
    "from sklearn.linear_model import LogisticRegression\n",
    "from sklearn.model_selection import train_test_split"
   ]
  },
  {
   "cell_type": "code",
   "execution_count": 8,
   "metadata": {
    "ExecuteTime": {
     "end_time": "2021-03-19T19:56:13.587157Z",
     "start_time": "2021-03-19T19:56:13.494989Z"
    }
   },
   "outputs": [],
   "source": [
    "X_train, X_test, y_train, y_test = train_test_split(X, y, test_size=0.33, random_state=42)"
   ]
  },
  {
   "cell_type": "code",
   "execution_count": null,
   "metadata": {
    "ExecuteTime": {
     "start_time": "2021-03-19T19:56:14.578Z"
    }
   },
   "outputs": [],
   "source": [
    "model = LogisticRegression()\n",
    "\n",
    "model.fit(X, y)"
   ]
  },
  {
   "cell_type": "code",
   "execution_count": null,
   "metadata": {
    "ExecuteTime": {
     "start_time": "2021-03-19T19:45:05.253Z"
    }
   },
   "outputs": [],
   "source": [
    "from sklearn.impute import SimpleImputer\n",
    "\n",
    "imputer = SimpleImputer(strategy='mean')\n",
    "imputer.fit(X_train)"
   ]
  },
  {
   "cell_type": "code",
   "execution_count": null,
   "metadata": {
    "ExecuteTime": {
     "start_time": "2021-03-19T19:45:11.236Z"
    }
   },
   "outputs": [],
   "source": [
    "from sklearn.preprocessing import StandardScaler\n",
    "\n",
    "scaler = StandardScaler()\n",
    "scaler.fit(X_train)"
   ]
  },
  {
   "cell_type": "code",
   "execution_count": null,
   "metadata": {
    "ExecuteTime": {
     "start_time": "2021-03-19T19:45:16.301Z"
    }
   },
   "outputs": [],
   "source": [
    "X_std_train = scaler.transform(imputer.transform(X_train))"
   ]
  },
  {
   "cell_type": "code",
   "execution_count": null,
   "metadata": {
    "ExecuteTime": {
     "start_time": "2021-03-19T19:45:17.506Z"
    }
   },
   "outputs": [],
   "source": [
    "model = LogisticRegression()\n",
    "\n",
    "model.fit(X_std_train, y_train)"
   ]
  },
  {
   "cell_type": "code",
   "execution_count": null,
   "metadata": {
    "ExecuteTime": {
     "start_time": "2021-03-19T19:45:21.927Z"
    }
   },
   "outputs": [],
   "source": [
    "from sklearn.model_selection import cross_val_score, KFold\n",
    "\n",
    "cross_val_score(model, X_std_train, y_train, scoring='roc_auc', cv=KFold(5))"
   ]
  },
  {
   "cell_type": "code",
   "execution_count": null,
   "metadata": {
    "ExecuteTime": {
     "start_time": "2021-03-19T19:45:23.133Z"
    }
   },
   "outputs": [],
   "source": [
    "from sklearn.model_selection import learning_curve\n",
    "\n",
    "curves = learning_curve(model, X_std_train, y_train, scoring='roc_auc')"
   ]
  },
  {
   "cell_type": "code",
   "execution_count": null,
   "metadata": {
    "ExecuteTime": {
     "start_time": "2021-03-19T19:45:24.902Z"
    }
   },
   "outputs": [],
   "source": [
    "train_sizes = curves[0]\n",
    "train_scores = curves[1]\n",
    "test_scores = curves[2]\n",
    "plt.plot(train_sizes, train_scores.mean(axis=1), '-o', label='Training AUC')\n",
    "plt.plot(train_sizes, test_scores.mean(axis=1), '-o', label='Validation AUC')\n",
    "plt.grid()\n",
    "plt.ylim([0.5, 1])\n",
    "plt.legend()"
   ]
  },
  {
   "cell_type": "code",
   "execution_count": null,
   "metadata": {
    "ExecuteTime": {
     "start_time": "2021-03-19T19:45:25.457Z"
    }
   },
   "outputs": [],
   "source": [
    "from sklearn.metrics import roc_auc_score\n",
    "\n",
    "\n",
    "X_std_test = scaler.transform(imputer.transform(X_test))\n",
    "\n",
    "roc_auc_score(y_test, model.predict_proba(X_std_test)[:, 1])"
   ]
  },
  {
   "cell_type": "code",
   "execution_count": null,
   "metadata": {
    "ExecuteTime": {
     "start_time": "2021-03-19T19:45:26.256Z"
    }
   },
   "outputs": [],
   "source": [
    "model.coef_"
   ]
  },
  {
   "cell_type": "code",
   "execution_count": null,
   "metadata": {},
   "outputs": [],
   "source": []
  }
 ],
 "metadata": {
  "kernelspec": {
   "display_name": "Python 3",
   "language": "python",
   "name": "python3"
  },
  "language_info": {
   "codemirror_mode": {
    "name": "ipython",
    "version": 3
   },
   "file_extension": ".py",
   "mimetype": "text/x-python",
   "name": "python",
   "nbconvert_exporter": "python",
   "pygments_lexer": "ipython3",
   "version": "3.8.5"
  },
  "toc": {
   "base_numbering": 1,
   "nav_menu": {},
   "number_sections": true,
   "sideBar": true,
   "skip_h1_title": false,
   "title_cell": "Table of Contents",
   "title_sidebar": "Contents",
   "toc_cell": false,
   "toc_position": {},
   "toc_section_display": true,
   "toc_window_display": false
  }
 },
 "nbformat": 4,
 "nbformat_minor": 4
}
